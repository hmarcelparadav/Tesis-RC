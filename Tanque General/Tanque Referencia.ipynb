{
 "cells": [
  {
   "cell_type": "markdown",
   "id": "5e27f0cc",
   "metadata": {},
   "source": [
    "#### En este notebook se encuentra los codigos que se aplicaron en todos los tanques, utilizando unicamente al tanque de referencia como ejemplo"
   ]
  },
  {
   "cell_type": "markdown",
   "id": "4f7e40c6",
   "metadata": {},
   "source": [
    "# Tanque General o Referencia H = 90 y D = 210"
   ]
  },
  {
   "cell_type": "code",
   "execution_count": 17,
   "id": "36331d57",
   "metadata": {},
   "outputs": [],
   "source": [
    "#Librerias utilizadas\n",
    "\n",
    "from pylab import *\n",
    "import matplotlib.pyplot as plt\n",
    "from scipy.optimize import curve_fit\n",
    "import pandas as pd\n",
    "import numpy as np\n",
    "from sympy import *\n",
    "from sympy.plotting import plot\n",
    "from sympy.abc import z\n",
    "init_printing()"
   ]
  },
  {
   "cell_type": "markdown",
   "id": "b20be25e",
   "metadata": {},
   "source": [
    "#### La siguiente casilla contiene: \n",
    "\n",
    "1) Se carga el archivo de todas las particulas para el tanque de referencia H = 90 y = 210\n",
    "\n",
    "2) Se realizá distinción del $ {\\color{Green}valle} $ y de la joroba del ${\\color{Red}muon}$\n",
    "\n",
    "3) Se grafica en escala logritmica"
   ]
  },
  {
   "cell_type": "code",
   "execution_count": 18,
   "id": "fe433f63",
   "metadata": {},
   "outputs": [
    {
     "name": "stderr",
     "output_type": "stream",
     "text": [
      "c:\\users\\hmpv\\appdata\\local\\programs\\python\\python36\\lib\\site-packages\\ipykernel_launcher.py:14: UserWarning: Attempted to set non-positive bottom ylim on a log-scaled axis.\n",
      "Invalid limit will be ignored.\n",
      "  \n"
     ]
    },
    {
     "data": {
      "image/png": "[encoded data removed]",
      "text/plain": [
       "<Figure size 432x288 with 1 Axes>"
      ]
     },
     "metadata": {
      "needs_background": "light"
     },
     "output_type": "display_data"
    }
   ],
   "source": [
    "dataall90x210 = np.loadtxt('C:/Users/hmpv/Desktop/Resultados/ResultadosyGeometrias/TanqueGeneral/CerenGenElectAll.dat')\n",
    "\n",
    "x = np.linspace(0, 500, 501)\n",
    "x2 = np.linspace(45, 95, 50)\n",
    "x3 = np.linspace(85, 125, 40)\n",
    "\n",
    "plt.plot(x[1:], dataall90x210[1:501]) \n",
    "plt.plot(x2, dataall90x210[45:95],\"g-\")\n",
    "plt.plot(x3, dataall90x210[85:125],\"r-\")\n",
    "plt.ylabel(\"Cuentas\", fontweight='bold')\n",
    "plt.xlabel(\"#Fotoelectrones\" , fontweight='bold')\n",
    "plt.xlim(0,400)\n",
    "plt.yscale('log')\n",
    "plt.ylim(0,100000)\n",
    "plt.grid()\n",
    "#plt.savefig(\"TanqueGeneral90x210[ver1].jpg\", dpi=300, bbox_inches='tight')\n",
    "plt.show()"
   ]
  },
  {
   "cell_type": "markdown",
   "id": "d9910f0d",
   "metadata": {},
   "source": [
    "#### A continuación:\n",
    "\n",
    "se aplica un ajuste al  $ {\\color{Green}valle} $ y a la joroba del ${\\color{Red}muon}$ por medio de un polinomio de grado 2\n",
    "\n",
    "\\begin{equation}\n",
    "Y = Ax^{2} + Bx + C\n",
    "\\end{equation}\n",
    "\n",
    "Por medio del curve_fit obtenemos las constantes:"
   ]
  },
  {
   "cell_type": "code",
   "execution_count": 19,
   "id": "fa48b715",
   "metadata": {},
   "outputs": [
    {
     "name": "stdout",
     "output_type": "stream",
     "text": [
      "Valle\n",
      "0.43855221452087684 -63.31359238295248 2981.011385464893\n",
      "\n",
      "\n",
      "Muon\n",
      "-0.7501564799345389 156.38801321818542 -7125.8410575632815\n"
     ]
    }
   ],
   "source": [
    "def funcion(x, a, b, c):\n",
    "    return a*pow(x,2)+b*x+c\n",
    "\n",
    "\n",
    "x4 = np.linspace(45, 95, 50)\n",
    "x5 = np.linspace(85, 125, 40)\n",
    "#print(a3)\n",
    "p1=[1, 1, 1]\n",
    "popt, pcov = curve_fit(funcion, x4, dataall90x210[45:95], p0=p1)\n",
    "#print(popt)\n",
    "popt2, pcov2 = curve_fit(funcion, x5, dataall90x210[85:125], p0=p1)\n",
    "\n",
    "\n",
    "print(\"Valle\")\n",
    "print(*popt)\n",
    "print(\"\")\n",
    "print(\"\")\n",
    "print(\"Muon\")\n",
    "print(*popt2)"
   ]
  },
  {
   "cell_type": "markdown",
   "id": "d80d7e46",
   "metadata": {},
   "source": [
    "#### Seguidamente:\n",
    "\n",
    "1) Por medio de las ecuaciones siguientes, se realiza a determinar el error del MAXIMO y MINIMO:\n",
    "    \n",
    "Primero para el valle (MIN) y luego para el muon (MAX)\n",
    "\n",
    "\n",
    "\n",
    "\\begin{equation}\n",
    "p_0*x^2 + p_1*x + p_2\n",
    "\\end{equation}\n",
    "\n",
    "\\begin{equation}\n",
    "x_{min} =-\\frac{p_1}{2p_0}\n",
    "\\end{equation}\n",
    "\n",
    "\\begin{equation}\n",
    "\\partial{f}(x,y) = \\sqrt{ \\left( \\frac{\\partial{f}}{\\partial{x}}{dx} \\right)^2 + \\left( \\frac{\\partial{f}}{\\partial{y}}{dy} \\right)^2}\n",
    "\\end{equation}\n",
    "\n",
    "\\begin{equation}\n",
    "\\partial{x_{min}} = \\sqrt{ \\left( \\frac{1}{2p_0}Err(p_1) \\right)^2 + \\left( \\frac{p_1}{2p_0^2}Err(p_0) \\right)^2 }\n",
    "\\end{equation}"
   ]
  },
  {
   "cell_type": "code",
   "execution_count": 20,
   "id": "4c5c3976",
   "metadata": {},
   "outputs": [
    {
     "name": "stdout",
     "output_type": "stream",
     "text": [
      "[[ 3.88567022e-04 -5.43993832e-02  1.81972281e+00]\n",
      " [-5.43993832e-02  7.68323723e+00 -2.59473844e+02]\n",
      " [ 1.81972281e+00 -2.59473844e+02  8.86654276e+03]]\n",
      "\n",
      "[3.88567022e-04 7.68323723e+00 8.86654276e+03]\n",
      "\n",
      "p0 = 0.43855221452087684 +/- 0.0003885670220486317\n",
      "p1 = -63.31359238295248 +/- 7.683237225223619\n",
      "p2 = 2981.011385464893 +/- 8866.542764660233\n",
      "\n",
      "\n",
      "\n",
      "\n",
      "Q_valle = 72.18478243477037 +/- 8.760008224992868\n",
      "\n",
      "\n",
      "[[ 1.77822408e-03 -3.73427055e-01  1.93556649e+01]\n",
      " [-3.73427055e-01  7.86187109e+01 -4.08558776e+03]\n",
      " [ 1.93556649e+01 -4.08558776e+03  2.12905305e+05]]\n",
      "\n",
      "[1.77822408e-03 7.86187109e+01 2.12905305e+05]\n",
      "\n",
      "p0 = -0.7501564799345389 +/- 0.0017782240829062968\n",
      "p1 = 156.38801321818542 +/- 78.618710922372\n",
      "p2 = -7125.8410575632815 +/- 212905.3053594975\n",
      "\n",
      "\n",
      "\n",
      "\n",
      "Q_Muon = 104.2369274953356 +/- 52.4021234490505\n",
      "\n",
      "\n"
     ]
    }
   ],
   "source": [
    "#Para el valle\n",
    "\n",
    "print(pcov)\n",
    "print(\"\")\n",
    "print(np.diag(pcov))\n",
    "print(\"\")\n",
    "print(\"p0 =\", popt[0], \"+/-\", np.diag(pcov)[0])\n",
    "print(\"p1 =\", popt[1], \"+/-\", np.diag(pcov)[1])\n",
    "print(\"p2 =\", popt[2], \"+/-\", np.diag(pcov)[2])\n",
    "print(\"\")\n",
    "print(\"\")\n",
    "\n",
    "xv = 1./(2*popt[0]) * np.diag(pcov)[1]\n",
    "yv = popt[1]/(2*popt[0]*popt[0]) * np.diag(pcov)[0]\n",
    "\n",
    "print(\"\")\n",
    "print(\"\")\n",
    "print(\"Q_valle =\", -popt[1]/(2*popt[0]), \"+/-\", np.sqrt(xv*xv + yv*yv))\n",
    "print(\"\")\n",
    "print(\"\")\n",
    "\n",
    "Q_valle = -popt[1]/(2*popt[0])\n",
    "Qerr_valle = np.sqrt(xv*xv + yv*yv)\n",
    "\n",
    "#Para el muon\n",
    "\n",
    "print(pcov2)\n",
    "print(\"\")\n",
    "print(np.diag(pcov2))\n",
    "print(\"\")\n",
    "print(\"p0 =\", popt2[0], \"+/-\", np.diag(pcov2)[0])\n",
    "print(\"p1 =\", popt2[1], \"+/-\", np.diag(pcov2)[1])\n",
    "print(\"p2 =\", popt2[2], \"+/-\", np.diag(pcov2)[2])\n",
    "print(\"\")\n",
    "print(\"\")\n",
    "\n",
    "xm = 1./(2*popt2[0]) * np.diag(pcov2)[1]\n",
    "ym = popt2[1]/(2*popt2[0]*popt2[0]) * np.diag(pcov2)[0]\n",
    "\n",
    "print(\"\")\n",
    "print(\"\")\n",
    "print(\"Q_Muon =\", -popt2[1]/(2*popt2[0]), \"+/-\", np.sqrt(xm*xm + ym*ym))\n",
    "print(\"\")\n",
    "print(\"\")\n",
    "\n",
    "\n",
    "Q_muon = -popt2[1]/(2*popt2[0])\n",
    "Qerr_muon = np.sqrt(xm*xm + ym*ym)"
   ]
  },
  {
   "cell_type": "markdown",
   "id": "adf4f1f7",
   "metadata": {},
   "source": [
    "#### Ahora,\n",
    "\n",
    "Una vez determinado el error de manerá individual, para cada uno (valle y joroba muon), se busca ver el error para el coeficiente MAX/MIN, de igual forma que se hizo anteriormente:\n",
    "\n",
    "\\begin{equation}\n",
    "Qmuon/Qvalle =\\frac{Q_{muon} +/- ErrQ_{muon}}{Q_{valle} +/- ErrQ_{valle}}\n",
    "\\end{equation}\n",
    "\n",
    "\\begin{equation}\n",
    "Qmuon/Qvalle = X+/- ErrX\n",
    "\\end{equation}\n",
    "\n",
    "\\begin{equation}\n",
    "\\partial{Qmuon/Qvalle} = \\sqrt{ \\left( \\frac{1}{Qvalle}Err(Qmuon) \\right)^2 + \\left( \\frac{Qmuon}{Qvalle^2}Err(Qvalle) \\right)^2 }\n",
    "\\end{equation}"
   ]
  },
  {
   "cell_type": "code",
   "execution_count": 21,
   "id": "69d6c09f",
   "metadata": {},
   "outputs": [
    {
     "name": "stdout",
     "output_type": "stream",
     "text": [
      "\n",
      "\n",
      "Q_Muon/Q_Valle = 1.444029114994273 +/- 0.7467959874888904\n",
      "\n",
      "\n"
     ]
    }
   ],
   "source": [
    "xf = 1./(Q_valle) * Qerr_muon\n",
    "yf = Q_muon/(Q_valle*Q_valle) * Qerr_valle\n",
    "\n",
    "print(\"\")\n",
    "print(\"\")\n",
    "print(\"Q_Muon/Q_Valle =\", Q_muon/Q_valle, \"+/-\", np.sqrt(xf*xf + yf*yf))\n",
    "print(\"\")\n",
    "print(\"\")"
   ]
  },
  {
   "cell_type": "markdown",
   "id": "36f48691",
   "metadata": {},
   "source": [
    "#### La siguiente casilla contiene:\n",
    "\n",
    "1) Los valores de $\\chi$ para el valle y para la joroba del muon\n",
    "\n",
    "2) Grafica del residuo\n",
    "\n",
    "\\begin{equation}\n",
    "\\chi\n",
    "\\end{equation}\n",
    "\n",
    "\\begin{equation}\n",
    "\\frac{\\chi }{ndf}\n",
    "\\end{equation}\n",
    "\n"
   ]
  },
  {
   "cell_type": "code",
   "execution_count": 22,
   "id": "e2861dab",
   "metadata": {},
   "outputs": [
    {
     "name": "stdout",
     "output_type": "stream",
     "text": [
      "Para compenente electromagnetica\n",
      "Chi2 =  1301.7344257494044\n",
      "Chi2/ndf = 27.696477143604348\n",
      "\n",
      "\n",
      "Para compenente muonica\n",
      "Chi2 =  1530.142263860369\n",
      "Chi2/ndf = 41.35519632055051\n"
     ]
    },
    {
     "data": {
      "image/png": "[encoded data removed]",
      "text/plain": [
       "<Figure size 432x288 with 1 Axes>"
      ]
     },
     "metadata": {
      "needs_background": "light"
     },
     "output_type": "display_data"
    },
    {
     "data": {
      "image/png": "[encoded data removed]",
      "text/plain": [
       "<Figure size 432x288 with 1 Axes>"
      ]
     },
     "metadata": {
      "needs_background": "light"
     },
     "output_type": "display_data"
    }
   ],
   "source": [
    "chi2_e = 0.\n",
    "residuos_e = []\n",
    "tmp_e = 0.\n",
    "for i in range(45, 95):\n",
    "    tmp_e = (funcion(i, popt[0], popt[1], popt[2]) - dataall90x210[i])\n",
    "    chi2_e += (tmp_e*tmp_e)/np.sqrt(dataall90x210[i])\n",
    "    residuos_e.append(tmp_e/np.sqrt(np.sqrt(dataall90x210[i])))\n",
    "    \n",
    "chi2_m = 0.\n",
    "residuos_m = []\n",
    "tmp_m = 0.\n",
    "for i in range(85, 125):\n",
    "    tmp_m = (funcion(i, popt2[0], popt2[1], popt2[2]) - dataall90x210[i])\n",
    "    chi2_m += (tmp_m*tmp_m)/np.sqrt(dataall90x210[i])\n",
    "    residuos_m.append(tmp_m/np.sqrt(np.sqrt(dataall90x210[i])))\n",
    "    \n",
    "print(\"Para compenente electromagnetica\")\n",
    "print(\"Chi2 = \", chi2_e)\n",
    "print(\"Chi2/ndf =\", chi2_e/(len(dataall90x210[45:95])-3))\n",
    "\n",
    "chi2_eP= \"{0:.2f}\".format(chi2_e)\n",
    "chi2_endfP= \"{0:.2f}\".format(chi2_e/(len(dataall90x210[45:95])-3))\n",
    "\n",
    "print(\"\")\n",
    "print(\"\")\n",
    "\n",
    "print(\"Para compenente muonica\")\n",
    "print(\"Chi2 = \", chi2_m)\n",
    "print(\"Chi2/ndf =\", chi2_m/(len(dataall90x210[85:125])-3))\n",
    "\n",
    "chi2_mP= \"{0:.2f}\".format(chi2_m)\n",
    "chi2_mndfP= \"{0:.2f}\".format(chi2_m/(len(dataall90x210[85:125])-3))\n",
    "\n",
    "#Graficas\n",
    "\n",
    "plt.plot(x2, residuos_e, \"o\")\n",
    "plt.ylabel(\"Residuos\", fontweight='bold')\n",
    "plt.xlabel(\"#Fotoelectrones\" , fontweight='bold')\n",
    "plt.show()\n",
    "\n",
    "\n",
    "plt.plot(x3, residuos_m, \"o\")\n",
    "plt.ylabel(\"Residuos\", fontweight='bold')\n",
    "plt.xlabel(\"#Fotoelectrones\" , fontweight='bold')\n",
    "plt.show()"
   ]
  },
  {
   "cell_type": "markdown",
   "id": "05ba6563",
   "metadata": {},
   "source": [
    "# Prom/MAX\n",
    "\n",
    "En la siguiente casilla calculamos el promedio de los primeros 20 bines:\n",
    "\n",
    "1) Se realiza una lista de los primero 20 bines y se grafica\n",
    "\n",
    "2) Se suman los primeros 20 bines\n",
    "\n",
    "3) Esa suma se divide entre 20, para saber su promedio\n",
    "\n",
    "4) Una vez teniendo el promedio lo dividimos entre el MAXIMO del eje Y, obteniendo así el coeficiente Prom/MAX"
   ]
  },
  {
   "cell_type": "code",
   "execution_count": 23,
   "id": "140e2dac",
   "metadata": {},
   "outputs": [
    {
     "data": {
      "image/png": "[encoded data removed]",
      "text/plain": [
       "<Figure size 432x288 with 1 Axes>"
      ]
     },
     "metadata": {
      "needs_background": "light"
     },
     "output_type": "display_data"
    },
    {
     "name": "stdout",
     "output_type": "stream",
     "text": [
      "Lista de los primeros 20 datos\n",
      "[50124. 31341. 22437. 17546. 13930. 11223.  9647.  8173.  7167.  6366.\n",
      "  5545.  5155.  4515.  4099.  3850.  3469.  3299.  2976.  2884.  2671.]\n",
      "\n",
      "Suma resultante de los primero 20 datos: 216417.000000\n",
      "\n",
      "Promedio tanque Prueba o Referencia H=90,D=210: 10820.850000\n",
      "\n",
      "Tanque Prueba H=90,D=210 Promedio/Maximo: 10.558349\n"
     ]
    }
   ],
   "source": [
    "plt.plot(x[1:21], dataall90x210[1:21], \"ob\") \n",
    "\n",
    "plt.ylabel(\"Cuentas\", fontweight='bold')\n",
    "plt.xlabel(\"#Fotoelectrones\" , fontweight='bold')\n",
    "plt.show()\n",
    "#plt.savefig(\"promediotanquegeneral.jpg\", dpi=300, bbox_inches='tight')\n",
    "print(\"Lista de los primeros 20 datos\")\n",
    "print(dataall90x210[1:21])\n",
    "suma=0\n",
    "for i in range(20):\n",
    "#    print(dataall90x210[i+1])\n",
    "    suma += dataall90x210[i+1]\n",
    "\n",
    "print(\"\")\n",
    "print(\"Suma resultante de los primero 20 datos: %f\"%(suma))\n",
    "print(\"\")\n",
    "\n",
    "prom90x210=suma/20\n",
    "print(\"Promedio tanque Prueba o Referencia H=90,D=210: %f\"%(prom90x210))\n",
    "print(\"\")\n",
    "\n",
    "#Donde corresponde al punto maximo para el eje Y=1024.861940\n",
    "#En caso de ser le eje X, este punto maximo se encuentra en X=104.236927\n",
    "\n",
    "PromMax90x210 = prom90x210/1024.861940\n",
    "print(\"Tanque Prueba H=90,D=210 Promedio/Maximo: %f\"%(PromMax90x210))"
   ]
  },
  {
   "cell_type": "markdown",
   "id": "2cd26305",
   "metadata": {},
   "source": [
    "#### A continuación se realiza hallar el error del promedio:\n",
    "\n",
    "\\begin{equation}\n",
    "Desv = \\sqrt{\\frac{ \\sum_{n=1}^{n}{ (x_i - x_{prom})^2 } } {n-1}}\n",
    "\\end{equation}\n",
    "\n",
    "\\begin{equation}\n",
    "ErrStd = \\frac{Desv}{\\sqrt{n}} \n",
    "\\end{equation}\n",
    "\n"
   ]
  },
  {
   "cell_type": "code",
   "execution_count": 24,
   "id": "ca95b242",
   "metadata": {},
   "outputs": [
    {
     "name": "stdout",
     "output_type": "stream",
     "text": [
      "Desviación = 11602.693761687415\n",
      "Error = 2594.44119732458\n",
      "\n",
      "\n",
      "Promedio = 10820.85 +/- 2594.44119732458\n",
      "\n",
      "\n"
     ]
    }
   ],
   "source": [
    "sumatoria2=0\n",
    "n=20\n",
    "\n",
    "for i in range(n):\n",
    "    a2 = dataall90x210[i+1]-prom90x210\n",
    "    sumatoria2 += (a2*a2)\n",
    "\n",
    "desv = np.sqrt(sumatoria2/n-1)\n",
    "\n",
    "print(\"Desviación =\", desv)\n",
    "\n",
    "errstd = desv/np.sqrt(n)\n",
    "\n",
    "print(\"Error =\", errstd)\n",
    "\n",
    "\n",
    "print(\"\")\n",
    "print(\"\")\n",
    "print(\"Promedio =\",prom90x210 , \"+/-\", errstd)\n",
    "print(\"\")\n",
    "print(\"\")"
   ]
  },
  {
   "cell_type": "markdown",
   "id": "7f0a3099",
   "metadata": {},
   "source": [
    "\\begin{equation}\n",
    "Promedio/Qmuon =\\frac{Promedio}{Q_{muon}}\n",
    "\\end{equation}\n",
    "\n",
    "\\begin{equation}\n",
    "\\partial{Promedio/Qmuon} = \\sqrt{ \\left( \\frac{1}{Qmuon}ErrStd) \\right)^2 + \\left( \\frac{Promedio}{Qmuon^2}Err(Qmuon) \\right)^2 }\n",
    "\\end{equation}"
   ]
  },
  {
   "cell_type": "code",
   "execution_count": 25,
   "id": "0ebd9258",
   "metadata": {},
   "outputs": [
    {
     "name": "stdout",
     "output_type": "stream",
     "text": [
      "\n",
      "\n",
      "Promedio/Q_Muon = 103.8101396502138 +/- 57.81908645548798\n",
      "\n",
      "\n"
     ]
    }
   ],
   "source": [
    "xp = 1./(Q_muon) * errstd\n",
    "yp = prom90x210/(Q_muon*Q_muon) * Qerr_muon\n",
    "\n",
    "print(\"\")\n",
    "print(\"\")\n",
    "print(\"Promedio/Q_Muon =\", prom90x210/Q_muon, \"+/-\", np.sqrt(xp*xp + yp*yp))\n",
    "print(\"\")\n",
    "print(\"\")"
   ]
  },
  {
   "cell_type": "markdown",
   "id": "ae7b905d",
   "metadata": {},
   "source": [
    "#### A continuacion la grafica del histograma de carga con el ajuste"
   ]
  },
  {
   "cell_type": "code",
   "execution_count": 26,
   "id": "ce623295",
   "metadata": {},
   "outputs": [
    {
     "data": {
      "image/png": "[encoded data removed]",
      "text/plain": [
       "<Figure size 432x288 with 1 Axes>"
      ]
     },
     "metadata": {
      "needs_background": "light"
     },
     "output_type": "display_data"
    }
   ],
   "source": [
    "plt.plot(x, dataall90x210[0:501]) \n",
    "plt.plot(x2, funcion(x4, *popt),  \"k-\", ms=10, label=r\"$\\chi$²={}, $\\chi$²/ndf={}\".format(chi2_eP, chi2_endfP))\n",
    "plt.plot(x3, funcion(x5, *popt2), \"r-\", ms=10, label=r\"$\\chi$²={}, $\\chi$²/ndf={}\".format(chi2_mP, chi2_mndfP))\n",
    "plt.axvline(72.184782, color='k', ls=\"dotted\")\n",
    "plt.axhline(695.872440, color='k', ls=\"dotted\")\n",
    "plt.axvline(104.236927, color='r', ls=\"dotted\")\n",
    "plt.axhline(1024.861940, color='r', ls=\"dotted\")\n",
    "plt.xlim(0,200)\n",
    "plt.ylim(0,1200)\n",
    "plt.ylabel(\"Cuentas\", fontweight='bold')\n",
    "plt.xlabel(\"#Fotoelectrones\" , fontweight='bold')\n",
    "plt.legend()\n",
    "#plt.grid()\n",
    "plt.savefig(\"TanqueGeneral_90x210_VEM.jpg\", dpi=300, bbox_inches='tight')\n",
    "plt.show()\n"
   ]
  },
  {
   "cell_type": "markdown",
   "id": "4da6266a",
   "metadata": {},
   "source": [
    "#### Para saber el Maximo y Minimo para la función se aplico lo siguiente: \n",
    "\n",
    "Nota: Para evitar error en vez de ser usada la variable \"x\", se utilizo para \"z\""
   ]
  },
  {
   "cell_type": "code",
   "execution_count": 27,
   "id": "4132ccfe",
   "metadata": {},
   "outputs": [
    {
     "name": "stdout",
     "output_type": "stream",
     "text": [
      "x = 72.184782 , y = 695.872440 (Min)\n",
      "x = 104.236927 , y = 1024.861940 (Max)\n"
     ]
    }
   ],
   "source": [
    "f = popt[0]*pow(z,2)+popt[1]*z+popt[2]\n",
    "f2 = popt2[0]*pow(z,2)+popt2[1]*z+popt2[2]\n",
    "\n",
    "def maxminf(f):\n",
    "    df = diff(f, z) # Primera derivada\n",
    "    d2f = diff(f, z, 2) # Segunda derivada\n",
    "    pcs = solve(Eq(df,0)) # Puntos críticos\n",
    "    #print(pcs)\n",
    "    for i in pcs:\n",
    "        if d2f.subs(z,i)>0: \n",
    "            tipo=\"Min\"\n",
    "            y=f.subs(z,i)\n",
    "        elif d2f.subs(z,i)<0: \n",
    "            tipo=\"Max\"\n",
    "            y=f.subs(z,i)\n",
    "        else: \n",
    "            tipo=\"Indefinido\"\n",
    "        print(\"x = %f , y = %f (%s)\"%(i,y,tipo))\n",
    "\n",
    "maxminf(f)\n",
    "maxminf(f2)"
   ]
  },
  {
   "cell_type": "markdown",
   "id": "cd40f176",
   "metadata": {},
   "source": []
  },
  {
   "cell_type": "code",
   "execution_count": null,
   "id": "95d97a5a",
   "metadata": {},
   "outputs": [],
   "source": []
  },
  {
   "cell_type": "code",
   "execution_count": null,
   "id": "89af2d05",
   "metadata": {},
   "outputs": [],
   "source": []
  },
  {
   "cell_type": "code",
   "execution_count": null,
   "id": "97f46bbe",
   "metadata": {},
   "outputs": [],
   "source": []
  }
 ],
 "metadata": {
  "kernelspec": {
   "display_name": "Python 3",
   "language": "python",
   "name": "python3"
  },
  "language_info": {
   "codemirror_mode": {
    "name": "ipython",
    "version": 3
   },
   "file_extension": ".py",
   "mimetype": "text/x-python",
   "name": "python",
   "nbconvert_exporter": "python",
   "pygments_lexer": "ipython3",
   "version": "3.6.8"
  }
 },
 "nbformat": 4,
 "nbformat_minor": 5
}
